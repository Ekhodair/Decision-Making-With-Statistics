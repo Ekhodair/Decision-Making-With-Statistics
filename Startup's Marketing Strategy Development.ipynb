{
 "cells": [
  {
   "cell_type": "markdown",
   "metadata": {},
   "source": [
    "## HYPOTHESIS TESTING WITH SCIPY\n",
    "\n"
   ]
  },
  {
   "cell_type": "markdown",
   "metadata": {},
   "source": [
    "\n",
    "\n",
    "\n",
    "\n",
    "\n",
    "\n",
    "\n",
    "**Familiar, a promising startup in the new market of blood transfusion! However, it has fallen into some tough times lately, so this project focuses on finding meaningful insights about their product in order to develop their marketing strategy using hypothesis testing.**"
   ]
  },
  {
   "cell_type": "code",
   "execution_count": 8,
   "metadata": {},
   "outputs": [],
   "source": [
    "from scipy.stats import ttest_1samp\n",
    "from scipy.stats import ttest_ind\n",
    "from scipy.stats import chi2_contingency"
   ]
  },
  {
   "cell_type": "markdown",
   "metadata": {},
   "source": [
    "**There are two transfusion packages available for customers; standard vein pack and premium artery pack. First, It would be a marketing goldmine if we can prove that the vein pack extends the customer's lifespan.**"
   ]
  },
  {
   "cell_type": "code",
   "execution_count": 10,
   "metadata": {},
   "outputs": [],
   "source": [
    "vein_pack_lifespans = [76.937674313716172, 75.993359130146814, 74.798150123540481, \n",
    "                       74.502021471585508, 77.48888897587436, 72.142565731540429,\n",
    "                       75.993031671911822, 76.341550480952279, 77.484755629998816,\n",
    "                       76.532101480086695, 76.255089552764176, 77.58398316566651, \n",
    "                       77.047370349622938, 72.874751745947108, 77.435045470028442, \n",
    "                       77.492341410789194, 78.326720468799522, 73.343702468870674, \n",
    "                       79.969157652363464, 74.838005833003251]"
   ]
  },
  {
   "cell_type": "markdown",
   "metadata": {},
   "source": [
    "Lets find out if the average lifespan of a Vein Pack subscriber is significantly different from the average life expectancy of 71 years.\n"
   ]
  },
  {
   "cell_type": "markdown",
   "metadata": {},
   "source": [
    "## 1-Sample T-Test\n"
   ]
  },
  {
   "cell_type": "markdown",
   "metadata": {},
   "source": [
    "If the test’s p-value is less than 0.05, print “The Vein Pack Is Proven To Make You Live Longer!”. Otherwise print “The Vein Pack Is Probably Good For You Somehow!”"
   ]
  },
  {
   "cell_type": "code",
   "execution_count": 11,
   "metadata": {},
   "outputs": [
    {
     "name": "stdout",
     "output_type": "stream",
     "text": [
      "The Vein Pack Is Proven To Make You Live Longer!\n"
     ]
    }
   ],
   "source": [
    "tstat, pval = ttest_1samp(vein_pack_lifespans, 71)\n",
    "vein_pack_test = pval\n",
    "\n",
    "if vein_pack_test < 0.05:\n",
    "   print('The Vein Pack Is Proven To Make You Live Longer!')\n",
    "else:\n",
    "  print('The Vein Pack Is Probably Good For You Somehow!')"
   ]
  },
  {
   "cell_type": "markdown",
   "metadata": {},
   "source": [
    "## Upselling Familiar: Pumping Life Into The Company\n",
    "\n",
    "\n",
    "**In order to differentiate Familiar’s different product lines, let's compare this lifespan data between different packages. The next step up from the Vein Pack is the Artery Pack.**"
   ]
  },
  {
   "cell_type": "code",
   "execution_count": 1,
   "metadata": {},
   "outputs": [],
   "source": [
    "artery_pack_lifespans = [76.335370084268348, 76.923082315590619, 75.952441644877794, \n",
    "                         74.544983480720305, 76.404504275447195, 73.079248886365761, \n",
    "                         77.023544610529925, 74.117420420068797, 77.38650656208344, \n",
    "                         73.044765837189928, 74.963118508661665, 73.319543019334859, \n",
    "                         75.857401376968625, 76.152653513512547, 73.355102863226705, \n",
    "                         73.902212564587884, 73.771211950924751, 68.314898302855781, \n",
    "                         74.639757177753282, 78.385477308439789]"
   ]
  },
  {
   "cell_type": "markdown",
   "metadata": {},
   "source": [
    "\n",
    "\n",
    "**Now we want to show that the subscribers to the Artery Pack experience a significant improvement even beyond what a Vein Pack subscriber’s benefits.**"
   ]
  },
  {
   "cell_type": "markdown",
   "metadata": {},
   "source": [
    "\n",
    "\n",
    "## 2-Sample T-Test\n",
    "\n",
    "\n",
    "**If the p-value from our experiment is less than 0.05, the results are significant and we should print out “the Artery Package guarantees even stronger results!”. Otherwise we should print out “the Artery Package is also a great product!”**\n",
    "\n"
   ]
  },
  {
   "cell_type": "code",
   "execution_count": 12,
   "metadata": {},
   "outputs": [
    {
     "name": "stdout",
     "output_type": "stream",
     "text": [
      "the Artery Package is also a great product!\n"
     ]
    }
   ],
   "source": [
    "package_comparison_results = ttest_ind (artery_pack_lifespans, vein_pack_lifespans)\n",
    "\n",
    "\n",
    "if package_comparison_results.pvalue < 0.05:\n",
    "   print('the Artery Package guarantees even stronger results!')\n",
    "else:\n",
    "  print('the Artery Package is also a great product!')"
   ]
  },
  {
   "cell_type": "markdown",
   "metadata": {},
   "source": [
    "**Well, it shows that the artery pack doesn't guarantee stronger results. hence, Familiar can't claim that there is a significant difference between the life expectancy of the two packages.**"
   ]
  },
  {
   "cell_type": "markdown",
   "metadata": {},
   "source": [
    "**If users' lifespan isn’t significantly increased by signing up for the Artery Package, maybe the company can make some other claim about the benefits of the package. To that end, companyy sent out a survey collecting the iron levels for customers, and filtered that data into “low”, “normal”, and “high”.**\n",
    "\n",
    "**They received 200 responses from Vein Package subscribers. 70% of them had low iron levels, 20% had normal, and 10% of them have high iron levels.\n",
    "They were only able to get 145 responses from our Artery Package subscribers, but only 20% of them had low iron levels. 60% had normal, and 20% have high iron levels.**"
   ]
  },
  {
   "cell_type": "code",
   "execution_count": 16,
   "metadata": {},
   "outputs": [],
   "source": [
    "iron_contingency_table = [[140, 29],\n",
    "                          [40, 87],\n",
    "                          [20, 29]]"
   ]
  },
  {
   "cell_type": "markdown",
   "metadata": {},
   "source": [
    "Now we need to be able to tell if what seems like a higher number of our Artery Package users is a significant difference from what was reported by Vein Package users."
   ]
  },
  {
   "cell_type": "markdown",
   "metadata": {},
   "source": [
    "## Chi-Square Test\n",
    "\n",
    "\n",
    "**Here’s the big moment: if the iron_pvalue is less than 0.05, print out “The Artery Package Is Proven To Make You Healthier!” otherwise we’ll have to use our other marketing copy: “While We Can’t Say The Artery Package Will Help You, I Bet It’s Nice!”**"
   ]
  },
  {
   "cell_type": "code",
   "execution_count": 19,
   "metadata": {},
   "outputs": [
    {
     "name": "stdout",
     "output_type": "stream",
     "text": [
      "The Artery Package Is Proven To Make You Healthier!\n"
     ]
    }
   ],
   "source": [
    "chi2, iron_pvalue, dof, expected = chi2_contingency(iron_contingency_table)\n",
    "\n",
    "if iron_pvalue < 0.05:\n",
    "  print('The Artery Package Is Proven To Make You Healthier!')\n",
    "else:\n",
    "  print(\"While We Can't Say The Artery Package Will Help You, I Bet It's Nice!\")"
   ]
  },
  {
   "cell_type": "markdown",
   "metadata": {},
   "source": [
    "\n",
    "\n",
    "## Fantastic! we can prove that even though the artery pack won't increase users' lifespans more than the vein pack, it will give them healthier iron levels. Now, With proven benefits to both of the product lines, we can definitely ramp up Familiar's marketing and sales."
   ]
  }
 ],
 "metadata": {
  "kernelspec": {
   "display_name": "Python 3",
   "language": "python",
   "name": "python3"
  },
  "language_info": {
   "codemirror_mode": {
    "name": "ipython",
    "version": 3
   },
   "file_extension": ".py",
   "mimetype": "text/x-python",
   "name": "python",
   "nbconvert_exporter": "python",
   "pygments_lexer": "ipython3",
   "version": "3.8.5"
  }
 },
 "nbformat": 4,
 "nbformat_minor": 4
}
