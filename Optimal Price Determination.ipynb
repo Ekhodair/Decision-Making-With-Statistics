{
 "cells": [
  {
   "cell_type": "markdown",
   "metadata": {},
   "source": [
    "## Determining a Price Point Through A/B Test\n",
    "**FarmBurg, a company that makes a farming simulation social network game. In the FarmBurg game, people can plow, plant, and harvest different crops.The product manager has been conducting an A/B Test with three different variants in order to determine the optimal price for a newly introduced package.**\n",
    "\n"
   ]
  },
  {
   "cell_type": "code",
   "execution_count": 4,
   "metadata": {},
   "outputs": [],
   "source": [
    "import pandas as pd\n",
    "from scipy.stats import binom_test"
   ]
  },
  {
   "cell_type": "markdown",
   "metadata": {},
   "source": [
    "**The company is not sure how much to charge for the new package, so they tested three different price points:**\n",
    "\n",
    "a) 0.99 $      b) 1.99 $   ,      and c) 4.99 $."
   ]
  },
  {
   "cell_type": "code",
   "execution_count": 8,
   "metadata": {},
   "outputs": [
    {
     "name": "stdout",
     "output_type": "stream",
     "text": [
      "                                user_id group click_day\n",
      "0  8e27bf9a-5b6e-41ed-801a-a59979c0ca98     A       NaN\n",
      "1  eb89e6f0-e682-4f79-99b1-161cc1c096f1     A       NaN\n",
      "2  7119106a-7a95-417b-8c4c-092c12ee5ef7     A       NaN\n",
      "3  e53781ff-ff7a-4fcd-af1a-adba02b2b954     A       NaN\n",
      "4  02d48cf1-1ae6-40b3-9d8b-8208884a0904     A  Saturday\n"
     ]
    }
   ],
   "source": [
    "df = pd.read_csv('clicks.csv')\n",
    "print(df.head())"
   ]
  },
  {
   "cell_type": "code",
   "execution_count": 9,
   "metadata": {},
   "outputs": [
    {
     "name": "stdout",
     "output_type": "stream",
     "text": [
      "  group  is_purchase  user_id\n",
      "0     A  No Purchase     1350\n",
      "1     A     Purchase      316\n",
      "2     B  No Purchase     1483\n",
      "3     B     Purchase      183\n",
      "4     C  No Purchase     1583\n",
      "5     C     Purchase       83\n"
     ]
    }
   ],
   "source": [
    "df['is_purchase'] = df.click_day.apply(lambda x: 'Purchase' if pd.notnull(x) else 'No Purchase')\n",
    "\n",
    "purchase_counts = df.groupby(['group', 'is_purchase']).user_id.count().reset_index()\n",
    "\n",
    "print (purchase_counts)"
   ]
  },
  {
   "cell_type": "code",
   "execution_count": 12,
   "metadata": {},
   "outputs": [
    {
     "name": "stdout",
     "output_type": "stream",
     "text": [
      "4998\n"
     ]
    }
   ],
   "source": [
    "num_visits = len(df)\n",
    "print(num_visits)"
   ]
  },
  {
   "cell_type": "markdown",
   "metadata": {},
   "source": [
    "### They want to know is if each price point allows to make enough money that we can exceed some target goal. They need to generate a minimum of 1000 Dollar per week in order to justify this project.\n",
    "\n",
    "\n",
    "**So, Visitors needed per price point is:**"
   ]
  },
  {
   "cell_type": "code",
   "execution_count": 13,
   "metadata": {},
   "outputs": [],
   "source": [
    "p_clicks_099 = (1000 / 0.99) / num_visits\n",
    "p_clicks_199 = (1000 / 1.99) / num_visits\n",
    "p_clicks_499 = (1000 / 4.99) / num_visits\n"
   ]
  },
  {
   "cell_type": "markdown",
   "metadata": {},
   "source": [
    "\n",
    "**We are conducting a *binomial test* on each group to check if the observed purchase rate is significantly greater than the percent of visitors who need to buy the upgrade package at each price point in order to make the 1000 Dollar target.**"
   ]
  },
  {
   "cell_type": "markdown",
   "metadata": {},
   "source": [
    "For Price Point 0.99 Dollar:"
   ]
  },
  {
   "cell_type": "code",
   "execution_count": 15,
   "metadata": {},
   "outputs": [
    {
     "name": "stdout",
     "output_type": "stream",
     "text": [
      "0.2111287299402726\n"
     ]
    }
   ],
   "source": [
    "pvalueA = binom_test(316, 1666, p_clicks_099)\n",
    "print(pvalueA)"
   ]
  },
  {
   "cell_type": "markdown",
   "metadata": {},
   "source": [
    "For Price Point 1.99 Dollar:"
   ]
  },
  {
   "cell_type": "code",
   "execution_count": 16,
   "metadata": {},
   "outputs": [
    {
     "name": "stdout",
     "output_type": "stream",
     "text": [
      "0.20660209246555486\n"
     ]
    }
   ],
   "source": [
    "pvalueB = binom_test(183, 1666, p_clicks_199)\n",
    "print(pvalueB)"
   ]
  },
  {
   "cell_type": "markdown",
   "metadata": {},
   "source": [
    "For Price Point 4.99 Dollar:\n"
   ]
  },
  {
   "cell_type": "code",
   "execution_count": 18,
   "metadata": {},
   "outputs": [
    {
     "name": "stdout",
     "output_type": "stream",
     "text": [
      "0.045623672477172125\n"
     ]
    }
   ],
   "source": [
    "pvalueC = binom_test(83, 1666, p_clicks_499)\n",
    "print(pvalueC)"
   ]
  },
  {
   "cell_type": "markdown",
   "metadata": {},
   "source": [
    "We believe with 95% confidence that the optimal price for the new package is **4.99 Dollars** as the preselected significance level is 0.05"
   ]
  }
 ],
 "metadata": {
  "kernelspec": {
   "display_name": "Python 3",
   "language": "python",
   "name": "python3"
  },
  "language_info": {
   "codemirror_mode": {
    "name": "ipython",
    "version": 3
   },
   "file_extension": ".py",
   "mimetype": "text/x-python",
   "name": "python",
   "nbconvert_exporter": "python",
   "pygments_lexer": "ipython3",
   "version": "3.8.5"
  }
 },
 "nbformat": 4,
 "nbformat_minor": 4
}
